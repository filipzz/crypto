{
 "cells": [
  {
   "cell_type": "markdown",
   "metadata": {},
   "source": [
    "# Setup\n",
    "\n",
    "In order to get data, enter your index number:"
   ]
  },
  {
   "cell_type": "code",
   "execution_count": null,
   "metadata": {},
   "outputs": [],
   "source": [
    "index_number = 123123"
   ]
  },
  {
   "cell_type": "code",
   "execution_count": null,
   "metadata": {},
   "outputs": [],
   "source": [
    "import requests\n",
    "\n",
    "url = 'https://cs.pwr.edu.pl/zagorski/test1.php?id=' + str(index_number)\n",
    "data = requests.get(url).json()\n",
    "\n",
    "\n",
    "N = data[\"N\"]"
   ]
  },
  {
   "cell_type": "markdown",
   "metadata": {},
   "source": [
    "# Problem 1\n",
    "\n",
    "Consider the following encryption scheme in which a message $m \\in \n",
    "\\mathcal{QR}^*_N$\n",
    "is encrypted relative to a Bob's public key $N$ (where $N = p q$ for $p, q$ distinct primes and $[p, q]$ being the Bob's private key) \n",
    "by \n",
    "computing the ciphertext $c = [m^2 \\bmod N]$. The decryption returns a random $x$ that satisfies $c = x^2 \\bmod N$.\n",
    "\n",
    "Alice convinced Bob for decrypting 4 ciphertexts of her choice. Show how she can maximize her chance of finding out the Bob's private key. What is the probability that she succeeds?\n",
    "\n",
    "\n",
    "For the given value of $N$:"
   ]
  },
  {
   "cell_type": "code",
   "execution_count": null,
   "metadata": {},
   "outputs": [],
   "source": [
    "print(N)"
   ]
  },
  {
   "cell_type": "markdown",
   "metadata": {},
   "source": [
    "show example interaction between Alice and Bob (you may need to find Bob's private key first)."
   ]
  },
  {
   "cell_type": "markdown",
   "metadata": {},
   "source": [
    "# Problem 2"
   ]
  },
  {
   "cell_type": "markdown",
   "metadata": {},
   "source": [
    "Let $P = P_1 \\ldots \n",
    "P_l$ be a plaintext, and  $C = C_0 C_1 \\ldots C_l$ be a ciphertext, where $P_i, C_i \\in \\{0, \n",
    "1\\}^n$. Let RMR be a mode of operation for  a block cipher $E: \\{0, \n",
    "1\\}^n \\times \\{0, 1\\}^n \\rightarrow \\{0, 1\\}^n$ that is defined as follows:\n",
    "\n",
    "1. $C_0 = IV$ where $IV \\leftarrow \\{0, 1\\}^n$ is selected uniformly at \n",
    "random,\n",
    "2. $C_i = E_k(C_{i-1} \\oplus P_i)$.\n",
    "\n",
    "## Problem 2.a\n",
    "\n",
    "Find equations for decryption (obtaining $P_1 \\ldots P_l$ when having $C_0 \n",
    "\\ldots C_l$). Show that this mode is not CCA-secure.\n"
   ]
  },
  {
   "cell_type": "markdown",
   "metadata": {},
   "source": [
    "## Problem 2.b\n",
    "\n",
    "Let RMR mode of operation be defined as in the Problem 2. Let $C_0 = IV$ be \n",
    "selected as $IV \\leftarrow H(k \\oplus P_1 \\oplus \\ldots \\oplus P_l)$ for a \n",
    "collission resistant \n",
    "hash function $H$. Show that this version\n",
    "of RMR mode is not CPA-secure. \n"
   ]
  },
  {
   "cell_type": "markdown",
   "metadata": {},
   "source": [
    "# Problem 3\n",
    "\n",
    "Let RMR-Mac be defined as $\\textsf{Mac}_{k}(P_1 \\ldots P_l) := [C_0, C_l]$ (see \n",
    "Problem 2 for the dependency between $C_i$ and $P_i$). Show how\n",
    "one can efficiently forge RMR-Mac."
   ]
  },
  {
   "cell_type": "markdown",
   "metadata": {},
   "source": [
    "# Problem 4\n",
    "\n",
    "Show that the following protocol is zero-knowledge proof of knowledge (i.e., \n",
    "show that it has all of the properties: completeness, soundness, zero-knowledge). You may assume that the Discrete Logarithm \n",
    "problem in the given group is hard.\n",
    "\n",
    "A prover Peggy selects $g$, element of prime order $p$ in a group $G$. Peggy then \n",
    "selects a private key to be $x$ and the corresponding public key $h = g^x$.\n",
    "\n",
    "To confirm that Peggy knows $x$, the following protocol is run:\n",
    "\n",
    "1. Peggy \n",
    "    * generates $s, t$, \n",
    "    * computes $S = g^s$ and \n",
    "    * $T = g^{t} (g^x)^{-1}$ \n",
    "    * sends $(S, T)$ to Victor,\n",
    "2. Victor generates bit $b \\leftarrow \\{0, 1\\}$ and sends it to Peggy.\n",
    "3. Peggy\n",
    "     * if $b = 0$ then she sends: $s$ \n",
    "     * if $b = 1$ then she sends: $w~= x+s \\bmod{p}$, and $t$\n",
    "4. Victor checks\n",
    "    * if $S = g^s \\bmod p$ (if $b = 0$)\n",
    "    * if $T h = g^{t}$ and $h \\cdot S = g^w$ (for $b = 1$).\n"
   ]
  },
  {
   "cell_type": "markdown",
   "metadata": {},
   "source": [
    "# Problem 5\n",
    "\n",
    "Alice and Bob want to go out. They cannot decide where to go. They wrote a piece of code that makes a random choice for them but they do not trust any other computer than their own.  The communication is controlled by malicious Evan.  \n",
    "\n",
    "## 5.1\n",
    "\n",
    "Propose a 3-move 2-party protocol for generating a random bit such that:\n",
    "\n",
    "S1. Neither Alice nor Bob cannot gain advantage of the other participant,\n",
    "\n",
    "S2. Eavesdropping Evan does not learn the outcome.\n",
    "\n",
    "You may assume that Alice and Bob know each other public keys. Adapt Diffie-Hellman key exchange.\n",
    "\n",
    "## 5.2\n",
    "\n",
    "Specify what other cryptographic primitives are needed to achieve S1 and S2\n",
    "\n",
    "## 5.3\n",
    "\n",
    "Express the problem in the notation that was used during lectures: $F_A, F_B, F_E$"
   ]
  },
  {
   "cell_type": "code",
   "execution_count": null,
   "metadata": {},
   "outputs": [],
   "source": []
  }
 ],
 "metadata": {
  "kernelspec": {
   "display_name": "Python 3",
   "language": "python",
   "name": "python3"
  },
  "language_info": {
   "codemirror_mode": {
    "name": "ipython",
    "version": 3
   },
   "file_extension": ".py",
   "mimetype": "text/x-python",
   "name": "python",
   "nbconvert_exporter": "python",
   "pygments_lexer": "ipython3",
   "version": "3.6.9"
  }
 },
 "nbformat": 4,
 "nbformat_minor": 2
}
