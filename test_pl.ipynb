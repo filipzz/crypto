{
 "cells": [
  {
   "cell_type": "markdown",
   "metadata": {},
   "source": [
    "# Setup\n",
    "\n",
    "Wprowadź numer indeksu, aby pobrać dane"
   ]
  },
  {
   "cell_type": "code",
   "execution_count": null,
   "metadata": {},
   "outputs": [],
   "source": [
    "index_number = 123123"
   ]
  },
  {
   "cell_type": "code",
   "execution_count": null,
   "metadata": {},
   "outputs": [],
   "source": [
    "import requests\n",
    "import base64\n",
    "\n",
    "url = 'https://cs.pwr.edu.pl/zagorski/test_xns.php?id=' + str(index_number)\n",
    "data = requests.get(url).json()\n",
    "\n",
    "\n",
    "N = data[\"N\"]"
   ]
  },
  {
   "cell_type": "markdown",
   "metadata": {},
   "source": [
    "# Zadanie 1\n",
    "\n",
    "``Książkowe'' RSA zdefiniowane jest następująco:\n",
    "\n",
    "$Gen({1^n}):$ \n",
    "1. wybierz losowe $p \\leftarrow \\mathcal{P}$, $2 \\not | p$, $|p| \\approx n/2$, \n",
    "2. wybierz losowe $q \\leftarrow \\mathcal{P}$, $2 \\not | q$, $|q| \\approx n/2$, $q \\neq p$,\n",
    "3. oblicz $N = p q$, $|N| = n$,\n",
    "4. wybierz losowe $e: 1 < e < \\varphi(N)$,\n",
    "5. oblicz $d: e d = 1 \\bmod \\varphi(N)$,\n",
    "6. zwróć \n",
    "    * klucz prywatny: $K_{priv} = [N, d]$, \n",
    "    * klucz publiczny $K_{pub} = [N, e]$.\n",
    "\n",
    "$Enc([N, e], m)$:\n",
    "    * zwróć $c = m^e \\bmod N$.\n",
    "\n",
    "$Dec([N, d], c)$:\n",
    "    * zwróć $m = c^d \\bmod N$.\n",
    "\n",
    "Niech $e = 2^{16}+1$, oraz niech $N$:"
   ]
  },
  {
   "cell_type": "code",
   "execution_count": null,
   "metadata": {},
   "outputs": [],
   "source": [
    "print(N)"
   ]
  },
  {
   "cell_type": "markdown",
   "metadata": {},
   "source": [
    "1. Znajdź klucz prywatny.\n",
    "2. Jaki jest kryptogram wiadomości $m = e$?"
   ]
  },
  {
   "cell_type": "markdown",
   "metadata": {},
   "source": [
    "# Zadanie 2"
   ]
  },
  {
   "cell_type": "markdown",
   "metadata": {},
   "source": [
    "Dane są generowane tak jak w zadaniu 1.\n",
    "\n",
    "Bob chwali się znajomością klucza prywatnego. Udowadnia jego znajomość w następujący sposób, gdy otrzymuje $m \\in Z_N^*$:\n",
    "\n",
    "* odpowiada losowym $a$ takim, że $a^2 = m$ (jeżeli $m \\in QR_N$)\n",
    "* odpowiada $s = h(m)^d \\bmod N$ (jeżeli $m \\not \\in QR_N$)\n",
    "\n",
    "Pokaż jak można wykorzystać przechwałki Boba do zdobycia klucza prywatnego. Dla wartości $N$ z poprzedniego zadania pokaż przykładowy ciąg zapytań i odpowiedzi Boba, który prowadzi do złamania klucza w dokładnie 4 krokach (4 zapytaniach)."
   ]
  },
  {
   "cell_type": "markdown",
   "metadata": {},
   "source": [
    "# Zadanie 3\n",
    "\n",
    "Niech $F: \\{0, 1\\}^n \\times \\{0, 1\\}^n \\rightarrow \\{0, 1\\}^n$ będzie szyfrem blokowym. \n",
    "Udowodnij, że następujący schemat  $\\pi = [{\\textsf{Gen}, \\textsf{Mac}, \\textsf{Vrfy}}]$ dla wiadomości $m \\in \\{0, 1\\}^{2n}$ jest niepodrabialny (albo znajdź kontprzykład - tj. adwersarza, który wygrywa odpowiednią grę).\n",
    "\n",
    "$\\textsf{Gen}(1^n): k \\leftarrow \\{0, 1\\}^n$\n",
    "\n",
    "$\\textsf{Mac}(k, m):$ (dla $m = m_1 m_2$, gdzie $|m_1| = |m_2| = n$)\n",
    "1. losowane jest $r \\leftarrow_R \\{0, 1\\}^n$,\n",
    "2. obliczana jest wartość pośrednia $t_1 := F_k(m_1) \\oplus r$\n",
    "3. obliczany jest tag $t := F_k(t_1) \\oplus m_2$\n",
    "4. zwracana jest para $(r, t)$\n",
    "\n",
    "$\\textsf{Vrfy}[{k, m, (r, t)}]$:\n",
    "1. obliczane jest $t_1 := F_k(m_1) \\oplus r$\n",
    "2. obliczane jest $t' := F_k(t_1) \\oplus m_2$\n",
    "3. zwracana jest wartość $[t == t']$\n"
   ]
  },
  {
   "cell_type": "markdown",
   "metadata": {},
   "source": [
    "# Zadanie 4\n",
    "\n",
    "Oznaczmy przez $P = P_1 \\ldots \n",
    "P_l$ bloki wiadomości, a przez $C = C_0 C_1 \\ldots C_l$ bloki kryptogramu $(P_i, C_i \\in \\{0, 1\\}^n)$. Tryb szyfrowania $\\textsf{HDM}$ dla szyfru blokowego $E: \\{0, \n",
    "1\\}^n \\times \\{0, 1\\}^n \\rightarrow \\{0, 1\\}^n$ zdefiniowany jest następująco:\n",
    "1. $C_0 = IV$ gdzie $IV \\leftarrow \\{0, 1\\}^n$ jest wybrane losowo z rozkładu jednostajnego\n",
    "2. $C_i = P_i \\oplus E_k(H(IV + i))$, gdzie $H : \\{0, 1\\}^* \\rightarrow \\{0, 1\\}^n$ jest bezkolizyjną funkcją haszującą.\n",
    "\n",
    "Polecenie:\n",
    "\n",
    "1. Napisz równania na deszyfrowanie (otrzymanie $P_1 \\ldots P_l$ z\n",
    "$C_0 \n",
    "\\ldots C_l$). Czy ten tryb szyfrowania wspiera urównoleglenia szyfrowania/deszyfrowania? \n",
    "\n",
    "2. Udowodnij, że schemat $\\textsf{HDM}$ nie jest CCA-secure bez względu na wybór $E$ i $H$.\n",
    "\n"
   ]
  }
 ],
 "metadata": {
  "kernelspec": {
   "display_name": "Python 3",
   "language": "python",
   "name": "python3"
  },
  "language_info": {
   "codemirror_mode": {
    "name": "ipython",
    "version": 3
   },
   "file_extension": ".py",
   "mimetype": "text/x-python",
   "name": "python",
   "nbconvert_exporter": "python",
   "pygments_lexer": "ipython3",
   "version": "3.6.9"
  }
 },
 "nbformat": 4,
 "nbformat_minor": 2
}
