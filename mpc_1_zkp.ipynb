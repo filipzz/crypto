{
 "cells": [
  {
   "cell_type": "markdown",
   "metadata": {
    "slideshow": {
     "slide_type": "slide"
    }
   },
   "source": [
    "# Cryptography\n",
    "\n",
    "## Secure Multiparty Computation - part 1\n",
    "\n",
    "# Intro"
   ]
  },
  {
   "cell_type": "markdown",
   "metadata": {
    "slideshow": {
     "slide_type": "fragment"
    }
   },
   "source": [
    "**A Pragmatic Introduction to Secure Multi-Party Computation** by David Evans, Vladimir Kolesnikov, Mike Rosulek"
   ]
  },
  {
   "cell_type": "markdown",
   "metadata": {
    "slideshow": {
     "slide_type": "fragment"
    }
   },
   "source": [
    "To see the notebook as a slide-show, use [RISE](https://rise.readthedocs.io/en/stable/)"
   ]
  },
  {
   "cell_type": "markdown",
   "metadata": {
    "slideshow": {
     "slide_type": "slide"
    }
   },
   "source": [
    "## Agenda"
   ]
  },
  {
   "cell_type": "markdown",
   "metadata": {
    "cell_style": "split",
    "slideshow": {
     "slide_type": "fragment"
    }
   },
   "source": [
    "### Motivation\n",
    "\n",
    "* Auctions\n",
    "* Procurement\n",
    "* Benchmarking\n",
    "* Data Mining\n",
    "* Voting\n",
    "* Any computable function/functionality"
   ]
  },
  {
   "cell_type": "markdown",
   "metadata": {
    "cell_style": "split",
    "slideshow": {
     "slide_type": "fragment"
    }
   },
   "source": [
    "### Tools\n",
    "\n",
    "* (verifiable) secret sharing\n",
    "* oblivious transfer\n",
    "* (homomorphic) commitments\n",
    "* zero-knowledge proofs \n"
   ]
  },
  {
   "cell_type": "markdown",
   "metadata": {
    "cell_style": "center",
    "slideshow": {
     "slide_type": "fragment"
    }
   },
   "source": [
    "![oblivious transfer](img/ot.png)"
   ]
  },
  {
   "cell_type": "code",
   "execution_count": 10,
   "metadata": {
    "slideshow": {
     "slide_type": "slide"
    }
   },
   "outputs": [],
   "source": [
    "import math\n",
    "import random\n",
    "from sympy import randprime, isprime, Mod"
   ]
  },
  {
   "cell_type": "code",
   "execution_count": 12,
   "metadata": {
    "cell_style": "split",
    "slideshow": {
     "slide_type": "fragment"
    }
   },
   "outputs": [],
   "source": [
    "def egcd(a, b):\n",
    "    if a == 0:\n",
    "        return (b, 0, 1)\n",
    "    else:\n",
    "        g, y, x = egcd(b % a, a)\n",
    "        return (g, x - (b // a) * y, y)\n",
    "\n",
    "def modinv(a, m):\n",
    "    g, x, y = egcd(a, m)\n",
    "    if g != 1:\n",
    "        raise Exception('modular inverse does not exist')\n",
    "    else:\n",
    "        return x % m"
   ]
  },
  {
   "cell_type": "code",
   "execution_count": 13,
   "metadata": {
    "cell_style": "split"
   },
   "outputs": [],
   "source": [
    "from sympy import primefactors"
   ]
  },
  {
   "cell_type": "code",
   "execution_count": null,
   "metadata": {
    "slideshow": {
     "slide_type": "skip"
    }
   },
   "outputs": [],
   "source": []
  },
  {
   "cell_type": "markdown",
   "metadata": {
    "cell_style": "split",
    "slideshow": {
     "slide_type": "slide"
    }
   },
   "source": [
    "**The factoring experiment** $\\textsf{Factor}_{\\mathcal{A}, GenModulus}(n)$\n",
    "1. $(N, p, q) := GenModulus(1^n)$\n",
    "\n",
    "2. $(p', q') = \\mathcal{A}(N)$\n",
    "\n",
    "3. Output: 1 if $p' \\cdot q' = N$ and $p', q' > 1$"
   ]
  },
  {
   "cell_type": "markdown",
   "metadata": {
    "cell_style": "split",
    "slideshow": {
     "slide_type": "fragment"
    }
   },
   "source": [
    "**Definition 7.45** We say that factoring is hard relative to **GenModulus** if for all probabilistic polynomial-time algorithms $\\mathsf{A}$ there exists a negligible function **negl** such that \n",
    "$$P[\\textsf{Factor}_{\\mathcal{A}, GenModulus}(n) = 1] \\leq negl(n)$$"
   ]
  },
  {
   "cell_type": "code",
   "execution_count": null,
   "metadata": {
    "slideshow": {
     "slide_type": "skip"
    }
   },
   "outputs": [],
   "source": []
  },
  {
   "cell_type": "markdown",
   "metadata": {
    "cell_style": "split",
    "slideshow": {
     "slide_type": "slide"
    }
   },
   "source": [
    "**The factoring experiment** $\\textsf{Factor}_{\\mathcal{A}, GenModulus}(n)$\n",
    "1. $(N, p, q) := GenModulus(1^n)$\n",
    "\n",
    "2. $(p', q') = \\mathcal{A}(N)$\n",
    "\n",
    "3. Output: 1 if $p' \\cdot q' = N$ and $p', q' > 1$\n",
    "\n",
    "**Definition 7.45** We say that factoring is hard relative to **GenModulus** if for all probabilistic polynomial-time algorithms $\\mathsf{A}$ there exists a negligible function **negl** such that \n",
    "$$P[\\textsf{Factor}_{\\mathcal{A}, GenModulus}(n) = 1] \\leq negl(n)$$"
   ]
  },
  {
   "cell_type": "code",
   "execution_count": 14,
   "metadata": {
    "cell_style": "split",
    "slideshow": {
     "slide_type": "fragment"
    }
   },
   "outputs": [],
   "source": [
    "def GenModulus(w):\n",
    "    n = len(w)\n",
    "    p = randprime(2 ** n, 2 ** (n+1))\n",
    "    q = randprime(2 ** n, 2 ** (n+1))\n",
    "    N = p * q\n",
    "    return N, p, q"
   ]
  },
  {
   "cell_type": "code",
   "execution_count": 15,
   "metadata": {
    "cell_style": "split",
    "slideshow": {
     "slide_type": "fragment"
    }
   },
   "outputs": [],
   "source": [
    "def Factor(n):\n",
    "    N, p, q = GenModulus(\"1\" * n)\n",
    "    pp, qq = A(N)\n",
    "    if pp > 1 and qq > 1 and pp * qq == N:\n",
    "        return 1\n",
    "    else:\n",
    "        return 0"
   ]
  },
  {
   "cell_type": "code",
   "execution_count": 16,
   "metadata": {
    "cell_style": "split",
    "slideshow": {
     "slide_type": "fragment"
    }
   },
   "outputs": [],
   "source": [
    "def A(N):\n",
    "    factors = primefactors(N)\n",
    "    return factors[0], factors[1]"
   ]
  },
  {
   "cell_type": "code",
   "execution_count": null,
   "metadata": {
    "cell_style": "split",
    "slideshow": {
     "slide_type": "fragment"
    }
   },
   "outputs": [],
   "source": [
    "%%time\n",
    "sec_param = 52\n",
    "num_of_succ = 0\n",
    "tries = 100\n",
    "\n",
    "for i in range(tries):\n",
    "    num_of_succ = num_of_succ + Factor(sec_param // 2)\n",
    "\n",
    "num_of_succ/tries"
   ]
  },
  {
   "cell_type": "code",
   "execution_count": null,
   "metadata": {
    "slideshow": {
     "slide_type": "skip"
    }
   },
   "outputs": [],
   "source": []
  },
  {
   "cell_type": "code",
   "execution_count": 17,
   "metadata": {
    "cell_style": "split",
    "slideshow": {
     "slide_type": "slide"
    }
   },
   "outputs": [
    {
     "name": "stdout",
     "output_type": "stream",
     "text": [
      "512893 65537 467343\n"
     ]
    }
   ],
   "source": [
    "def GenRSA(w):\n",
    "    n = len(w)\n",
    "    N, p, q = GenModulus(w)\n",
    "    m = (p-1) * (q-1)\n",
    "    e = 2 ** 16 + 1\n",
    "    d = modinv(e, m)\n",
    "    return N, e, d, p, q\n",
    "# N, e - public key\n",
    "# N, d - private key\n",
    "\n",
    "def enc(x, N, e):\n",
    "    return x ** e % N\n",
    "\n",
    "def dec(c, N, d):\n",
    "    return c ** d % N\n",
    "\n",
    "N, e, d, p, q = GenRSA(\"111111111\")\n",
    "#print(\"private key: \", d)\n",
    "#print(\"public key: \", N, e)\n",
    "\n",
    "xx  = 120 * p % N #random.randint(2, N)\n",
    "\n",
    "y = enc(xx, N, e)\n",
    "x = dec(y, N, d)\n",
    "print(N, e, y)"
   ]
  },
  {
   "cell_type": "markdown",
   "metadata": {
    "cell_style": "split",
    "slideshow": {
     "slide_type": "fragment"
    }
   },
   "source": [
    "**The RSA experiment** $\\textsf{RSA-inv}_{\\mathcal{A}, GenRSA}(n)$\n",
    "1. $(N, e, d) := GenRSA(1^n)$\n",
    "\n",
    "2. choose $y \\leftarrow Z_N^*$\n",
    "\n",
    "2. $x = \\mathcal{A}(N, e, y)$\n",
    "\n",
    "3. Output: 1 if $x^e = y \\bmod N$"
   ]
  },
  {
   "cell_type": "markdown",
   "metadata": {
    "cell_style": "split",
    "slideshow": {
     "slide_type": "fragment"
    }
   },
   "source": [
    "**Definition 7.46** We say that RSA problem is hard relative to **GenRSA** if for all probabilistic polynomial-time algorithms $\\mathsf{A}$ there exists a negligible function **negl** such that \n",
    "$$P[\\textsf{RSA-inv}_{\\mathcal{A}, GenRSA}(n) = 1] \\leq negl(n)$$"
   ]
  },
  {
   "cell_type": "code",
   "execution_count": 18,
   "metadata": {
    "cell_style": "split",
    "slideshow": {
     "slide_type": "fragment"
    }
   },
   "outputs": [],
   "source": [
    "def randomZnElement(N):\n",
    "    g = N\n",
    "    while math.gcd(g, N) != 1:\n",
    "        g = random.randint(2, N)\n",
    "    return g"
   ]
  },
  {
   "cell_type": "code",
   "execution_count": null,
   "metadata": {
    "cell_style": "split"
   },
   "outputs": [],
   "source": [
    "    "
   ]
  },
  {
   "cell_type": "code",
   "execution_count": null,
   "metadata": {},
   "outputs": [],
   "source": []
  },
  {
   "cell_type": "markdown",
   "metadata": {
    "slideshow": {
     "slide_type": "slide"
    }
   },
   "source": [
    "# Naive Identification Scheme"
   ]
  },
  {
   "cell_type": "markdown",
   "metadata": {
    "cell_style": "split",
    "slideshow": {
     "slide_type": "fragment"
    }
   },
   "source": [
    "## Password Scheme\n",
    "\n",
    "Peggy $(x, f(x))$, Vic $f(x)$\n",
    "1. Peggy:\n",
    "    * sends $x$ to Vic\n",
    "2. Vic:\n",
    "    * checks if $f(x)$ is correct\n",
    "  "
   ]
  },
  {
   "cell_type": "markdown",
   "metadata": {
    "cell_style": "split",
    "slideshow": {
     "slide_type": "fragment"
    }
   },
   "source": [
    "## Identification based on Public-Key Encryption\n",
    "\n",
    "Peggys $(x, f(x))$, Vic: $f(x)$\n",
    "\n",
    "1. Vic:\n",
    "    * selects $m$\n",
    "    * encrypts $c = Enc(f(x), m)$\n",
    "    * sends $c$ to Peggy\n",
    "2. Peggy:\n",
    "    * decrypts $m' = Dec(x, c)$\n",
    "    * sends $m'$ to Vic\n",
    "3. Vic:\n",
    "    * accepts the identity of Peggy iff $m=m'$\n",
    "    \n",
    "Dishonest Vic :\n",
    "1. captures an encryption $c$ that was sent to Peggy and then Vic can sent $c$ as a challenge\n",
    "2. Peggy decrypts $m' = Dec(x, c)$\n",
    "3. Vic learns the value of $m' = m$\n",
    "\n",
    "Before the protocol:\n",
    "- f(x)\n",
    "- c\n",
    "After the protocol:\n",
    "- he knows that $m = Dec(x, c)$"
   ]
  },
  {
   "cell_type": "markdown",
   "metadata": {
    "slideshow": {
     "slide_type": "fragment"
    }
   },
   "source": [
    "![Naive authentication scheme](img/auth-enc.png)"
   ]
  },
  {
   "cell_type": "markdown",
   "metadata": {
    "cell_style": "split",
    "slideshow": {
     "slide_type": "slide"
    }
   },
   "source": [
    "A (Peggy) has:\n",
    "    - secret key $x$\n",
    "    - public key $f(x)$, for one-way function $f$\n",
    "    \n",
    "B (Vic) has:\n",
    "    - public key $f(x)$\n",
    "    \n",
    "    \n",
    "A's input: x\n",
    "$$F_A = 0$$\n",
    "\n",
    "\n",
    "B's input: $f(x) = y$\n",
    "$$F_B(x, y) = (y = f(x)) ? 1:0$$\n"
   ]
  },
  {
   "cell_type": "markdown",
   "metadata": {
    "cell_style": "split",
    "slideshow": {
     "slide_type": "fragment"
    }
   },
   "source": [
    "**Completenes**: If Peggy knows the prover's secret, then Vic will always accept Peggy's proof."
   ]
  },
  {
   "cell_type": "markdown",
   "metadata": {
    "cell_style": "split",
    "slideshow": {
     "slide_type": "fragment"
    }
   },
   "source": [
    "**Soundness**: If Peggy can convince Vic with reasonable probability, then she know the prover's secret.\n",
    "\n",
    "If Peggy does not know the secret then with high probability Vic will detect that"
   ]
  },
  {
   "cell_type": "markdown",
   "metadata": {
    "cell_style": "split",
    "slideshow": {
     "slide_type": "fragment"
    }
   },
   "source": [
    "**Zero-knowledge** (intuition): whatever the verifier can efficiently compute after interacting with the prover, can be efficiently simulated without interaction.\n",
    "\n",
    "Performing the protocol with the Prover (Peggy) should not give any new information to Verifier (Vic)"
   ]
  }
 ],
 "metadata": {
  "celltoolbar": "Slideshow",
  "kernelspec": {
   "display_name": "Python 3",
   "language": "python",
   "name": "python3"
  },
  "language_info": {
   "codemirror_mode": {
    "name": "ipython",
    "version": 3
   },
   "file_extension": ".py",
   "mimetype": "text/x-python",
   "name": "python",
   "nbconvert_exporter": "python",
   "pygments_lexer": "ipython3",
   "version": "3.7.6"
  }
 },
 "nbformat": 4,
 "nbformat_minor": 4
}
